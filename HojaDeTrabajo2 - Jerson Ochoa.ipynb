{
 "cells": [
  {
   "attachments": {},
   "cell_type": "markdown",
   "id": "268cc30f",
   "metadata": {},
   "source": [
    "### Ciencia de datos en Python\n",
    "# Hoja de trabajo #2 - Sintaxis y estructuras de datos\n",
    "#### Jerson Alexander Ochoa Barillas"
   ]
  },
  {
   "attachments": {},
   "cell_type": "markdown",
   "id": "06639f75",
   "metadata": {},
   "source": [
    "### 1. Haga un programa en Python que reciba de parámetro un número de segundos y que despliegue en pantalla las horas, minutos y segundos que representan. Por ejemplo:\n",
    "- Si el número de segundos recibidos fuera: 2743 entonces su programa debería desplegar: Horas: 0, Minutos: 45, Segundos: 43\n",
    "- Si el número de segundos recibidos fuera 5871: Horas: 1, Minutos: 37, Segundos: 51\n",
    "Recuerde manejar excepciones y errores que considere necesarios."
   ]
  },
  {
   "cell_type": "code",
   "execution_count": 6,
   "metadata": {},
   "outputs": [
    {
     "name": "stdout",
     "output_type": "stream",
     "text": [
      "Horas: 1, Minutos: 37, Segundos: 51\n"
     ]
    }
   ],
   "source": [
    "try:\n",
    "    userSeconds = int(input(\"Ingresa el número de segundos que deseas convertir: \"))\n",
    "    varSeconds = userSeconds % 60\n",
    "    auxMinutes = (userSeconds - varSeconds) / 60\n",
    "    varMinutes = auxMinutes % 60\n",
    "    varHours = (auxMinutes - varMinutes) / 60\n",
    "    print(\"Horas: {}, Minutos: {}, Segundos: {}\".format(int(varHours), int(varMinutes), int(varSeconds)))\n",
    "except ValueError:\n",
    "    print(\"Dato no válido, intenta nuevamente\")"
   ]
  },
  {
   "attachments": {},
   "cell_type": "markdown",
   "id": "64413c9e",
   "metadata": {},
   "source": [
    "### 2. Haga una función en Python que dado un número entre 1 y 20 y un caracter cualquiera despliegue cuatro patrones triangulares\n",
    "Por ejemplo si el usuario ingresara el número 4 y el símbolo * el programa deberá desplegar lo siguiente: \n",
    "\n",
    "* °     °°°°  °°°°     °\n",
    "* °°     °°°  °°°     °°\n",
    "* °°°     °°  °°     °°°\n",
    "* °°°°     °  °     °°°°"
   ]
  },
  {
   "cell_type": "code",
   "execution_count": 25,
   "id": "6c6acee4",
   "metadata": {},
   "outputs": [
    {
     "name": "stdout",
     "output_type": "stream",
     "text": [
      "*          **********          **********          *\n",
      "**          *********          *********          **\n",
      "***          ********          ********          ***\n",
      "****          *******          *******          ****\n",
      "*****          ******          ******          *****\n",
      "******          *****          *****          ******\n",
      "*******          ****          ****          *******\n",
      "********          ***          ***          ********\n",
      "*********          **          **          *********\n",
      "**********          *          *          **********\n"
     ]
    }
   ],
   "source": [
    "strOut = \"\"\n",
    "def printPiramids(number, character):\n",
    "    i = 0\n",
    "    try:\n",
    "        while (i < number):\n",
    "            strOut = character*(i+1)\n",
    "            strOut += ' '*(number)\n",
    "            strOut += character*(number-i)\n",
    "            strOut += ' '*(number)\n",
    "            strOut += character*(number-i) \n",
    "            strOut += ' '*(number)\n",
    "            strOut += character*(i+1)\n",
    "            print(strOut)\n",
    "            i+=1\n",
    "    except ValueError:\n",
    "        print(\"Datos ingresados no válidos, intente nuevamente\")\n",
    "\n",
    "fOut = printPiramids(10, \"*\")\n",
    "fOut"
   ]
  },
  {
   "attachments": {},
   "cell_type": "markdown",
   "id": "da0ba665",
   "metadata": {},
   "source": [
    "### 3. Haga un programa en Python que la fecha de nacimiento de una persona (puede ingresar por separado cada valor, es decir, pedir primero día, luego mes y luego año), despliegue la edad de la persona en años, meses y días. Su resultado puede ser aproximado"
   ]
  },
  {
   "cell_type": "code",
   "execution_count": 46,
   "id": "8a173278",
   "metadata": {},
   "outputs": [
    {
     "name": "stdout",
     "output_type": "stream",
     "text": [
      "Tu edad actual es: 26 años, 4 meses y 2 dias\n"
     ]
    }
   ],
   "source": [
    "import datetime\n",
    "\n",
    "try:\n",
    "    userDay = int(input(\"Ingresa tu día de nacimiento (en números):\"))\n",
    "    userMonth = int(input(\"Ingresa tu mes de nacimiento (en números):\"))\n",
    "    userYear = int(input(\"Ingresa tu año de nacimiento (en números):\"))\n",
    "\n",
    "    currentDate = datetime.datetime.now()\n",
    "    userDate = datetime.datetime.strptime(\"{}-{}-{}\".format(int(userYear), int(userMonth), int(userDay)), \"%Y-%m-%d\")\n",
    "    currentYear = currentDate.date().year\n",
    "    currentMonth = currentDate.date().month\n",
    "    currentDay = currentDate.date().day\n",
    "\n",
    "    if (userYear > int(currentYear)):\n",
    "        print(\"El año ingresado no puede ser mayor al actual, intente nuevamente\")\n",
    "    elif (userYear == int(currentYear) and userMonth > currentMonth):\n",
    "        print(\"El mes ingresado no puede ser mayor al actual tomando en cuenta que es el mismo año, intente nuevamente\")\n",
    "    elif (userYear == int(currentYear) and userMonth == currentMonth and userDay > currentDay):\n",
    "        print(\"Fecha ingresada no es válida, intente nuevamente\")\n",
    "    else:\n",
    "        ageDaysDiff = currentDate - userDate\n",
    "        auxDays = ageDaysDiff.days % 365\n",
    "        ageYears = ((ageDaysDiff.days - auxDays) / 365)\n",
    "        ageDays = auxDays % 30\n",
    "        ageMonths = ((auxDays - ageDays) / 30)\n",
    "        print(\"Tu edad actual es: {} años, {} meses y {} dias\".format(int(ageYears), int(ageMonths), int(ageDays)))\n",
    "\n",
    "        \n",
    "except ValueError as ex:\n",
    "    print(\"Datos incorrectos, intente nuevamente \")"
   ]
  },
  {
   "attachments": {},
   "cell_type": "markdown",
   "id": "4b02eb06",
   "metadata": {},
   "source": [
    "### 4. Escriba una función en Python que dada una tupla de elementos (números o letras) esta se convierta a un string. Tomar nota del siguiente ejemplo: \n",
    "- Si la entrada fuera: (10, 20, 40, 5, 70)\n",
    "- La salida debería ser: 1020440570"
   ]
  },
  {
   "cell_type": "code",
   "execution_count": 14,
   "id": "74bee2c5",
   "metadata": {},
   "outputs": [
    {
     "name": "stdout",
     "output_type": "stream",
     "text": [
      "102040570\n"
     ]
    }
   ],
   "source": [
    "try:\n",
    "    def concatElements(elements):\n",
    "        # print(elements)\n",
    "        varString = \"\"\n",
    "        for el in elements:\n",
    "            varString+=str(el)\n",
    "        return(varString)\n",
    "\n",
    "    resp = concatElements((10, 20, 40, 5, 70))\n",
    "    print(resp)\n",
    "    \n",
    "except ValueError:\n",
    "    print(\"Ha ocurrido un error al intentar procesar los datos, intenta nuevamente\")\n",
    "except TypeError:\n",
    "    print(\"Error: Debe ingresar una tupla a la función, intente nuevamente\")\n"
   ]
  },
  {
   "attachments": {},
   "cell_type": "markdown",
   "id": "2a7e5896",
   "metadata": {},
   "source": [
    "### 5. Cree un programa en Python que dada una lista de tuplas, elimine las tuplas que están vacías. Tomar nota del siguiente ejemplo:\n",
    "- Si la lista fuera [(), (), ('X',), ('a', 'b'), ('a','b','c'), ('d')]\n",
    "- El resultado debería ser [('X'), ('a', 'b'), ('a','b','c'), ('d')]"
   ]
  },
  {
   "cell_type": "code",
   "execution_count": 20,
   "id": "37999099",
   "metadata": {},
   "outputs": [
    {
     "name": "stdout",
     "output_type": "stream",
     "text": [
      "['X', ('a', 'b'), ('a', 'b', 'c'), 'd']\n"
     ]
    }
   ],
   "source": [
    "try: \n",
    "    def removeVoidTup(tuplas):\n",
    "        for i in range(len(tuplas)-1, -1, -1):\n",
    "            if not tuplas[i]:\n",
    "                del tuplas[i]\n",
    "        return tuplas\n",
    "\n",
    "    resp = removeVoidTup([(), (), ('X'), ('a','b'), ('a', 'b', 'c'), ('d')])\n",
    "    print(resp)\n",
    "except ValueError:\n",
    "    print(\"Debe ingresar un listado de tuplas válido\")\n",
    "except TypeError:\n",
    "    print(\"Debe ingresar un listado de tuplas válido\")"
   ]
  },
  {
   "attachments": {},
   "cell_type": "markdown",
   "id": "ae1dcc39",
   "metadata": {},
   "source": [
    "### 6. Cree una función en Python que dada una tupla de tuplas con números, produzca una tupla con el promedio de cada tupla individual. Tomar nota del siguiente ejemplo: \n",
    "- Si la tupla de entrada fuera: ((10, 10, 10, 12), (30, 45, 56, 45), (81, 80, 39, 32))\n",
    "- El resultado debería ser: (10.5, 44, 58)"
   ]
  },
  {
   "cell_type": "code",
   "execution_count": 43,
   "id": "bb87557c",
   "metadata": {},
   "outputs": [
    {
     "name": "stdout",
     "output_type": "stream",
     "text": [
      "(10.5, 44.0, 58.0)\n"
     ]
    }
   ],
   "source": [
    "try:\n",
    "    def getTupAvg(list):\n",
    "        listAvg = []\n",
    "        for i in range(len(list)):\n",
    "            if list[i]:\n",
    "                mean = sum(list[i])/len(list[i])\n",
    "                listAvg.append(mean)\n",
    "        return tuple(listAvg)\n",
    "\n",
    "    resp = getTupAvg(((10, 10, 10, 12), (30, 45, 56, 45), (81, 80, 39, 32)))\n",
    "    print(resp)\n",
    "except ValueError:\n",
    "    print(\"Debe ingresar un correcto listado de tuplas, intente nuevamente\")\n",
    "except TypeError:\n",
    "    print(\"Debe ingresar un correcto listado de tuplas, intente nuevamente\")"
   ]
  },
  {
   "attachments": {},
   "cell_type": "markdown",
   "id": "081f7f13",
   "metadata": {},
   "source": [
    "### 7. Escribir un programa que gestione las facturas pendientes de cobro de una empresa. \n",
    "\n",
    "- Las facturas se almacenarán en un diccionario donde la llave de cada factura será el número de factura (debe utilizar un número de 4 dígitos) y el valor del coste de la factura. \n",
    "- El programa debe preguntar al usuario si quiere añadir una nueva factura, pagar una existente o terminar. \n",
    "- Si desea añadir una nueva factura se preguntará por el número de factura y su coste y se añadirá al diccionario, para confirmar que la factura se ingresó correctamente el programa debe desplegar el diccionario completo. \n",
    "- Si se desea pagar una factura se preguntará por el número de factura y se eliminará del diccionario. \n",
    "- Después de cada operación el programa debe mostrar en pantalla la cantidad cobrada hasta el momento y la cantidad pendiente de cobro. \n",
    "- Puede utilizar otras estructuras de datos como apoyo si lo considera necesario."
   ]
  },
  {
   "cell_type": "code",
   "execution_count": 56,
   "id": "37ecad0b",
   "metadata": {},
   "outputs": [],
   "source": [
    "# Declaración de variables globales\n",
    "facturas= {}\n",
    "facturasPagadas = {}"
   ]
  },
  {
   "cell_type": "code",
   "execution_count": 61,
   "id": "9016ec97",
   "metadata": {},
   "outputs": [],
   "source": [
    "def getDictinarySum(dict):\n",
    "    return sum(dict.values())"
   ]
  },
  {
   "cell_type": "code",
   "execution_count": 67,
   "id": "0f295fe4",
   "metadata": {},
   "outputs": [
    {
     "name": "stdout",
     "output_type": "stream",
     "text": [
      "Se ha ingresado correctamente la factura\n",
      "Facturas pendientes de pago en sistema: \n",
      "{1006: 150.0}\n",
      "Cantidad pendiente de pagar: 150.0\n",
      "Cantidad pagada al momento: 205.0\n"
     ]
    }
   ],
   "source": [
    "try:\n",
    "    userOptionInput = int(input(\"Ingresa el número de operación a realizar: (1. Añadir una nueva factura, 2. Pagar factura existente, 3. Salir)\"))\n",
    "    if (userOptionInput <= 0 or userOptionInput > 3):\n",
    "        # Opción no válida\n",
    "        print(\"Debes seleccionar una opción válida, intenta nuevamente\")\n",
    "    if (userOptionInput == 1):\n",
    "        # Ingresar factura\n",
    "        factNum = int(input(\"Ingresa el código de factura (4 dígitos):\"))\n",
    "        factCost = float(input(\"Ingresa el costo de la factura: \"))\n",
    "        if (len(str(factNum))) != 4:\n",
    "            print(\"Debes ingresar un número de factura con 4 dígitos\")\n",
    "        else:\n",
    "            facturas[factNum] = factCost\n",
    "            print(\"Se ha ingresado correctamente la factura\")\n",
    "            print(\"Facturas pendientes de pago en sistema: \")\n",
    "            print(facturas)\n",
    "            print(\"Cantidad pendiente de pagar: {}\".format(getDictinarySum(facturas)))\n",
    "            print(\"Cantidad pagada al momento: {}\".format(getDictinarySum(facturasPagadas)))\n",
    "    if (userOptionInput == 2):\n",
    "        # Pagar factura existente\n",
    "        factNum = int(input(\"Ingresa el código de la factura a pagar: \"))\n",
    "        if (facturas[factNum]):\n",
    "            facturasPagadas[factNum] = facturas[factNum]\n",
    "        facturas.pop(factNum)\n",
    "        print(\"Factura ha sido pagada correctamente\")\n",
    "        print(\"Cantidad pendiente de pagar: {}\".format(getDictinarySum(facturas)))\n",
    "        print(\"Cantidad pagada al momento: {}\".format(getDictinarySum(facturasPagadas)))\n",
    "    if (userOptionInput == 3): \n",
    "        print(\"Ejecución finalizada, adiós!\")\n",
    "\n",
    "except ValueError: \n",
    "    print(\"Has ingresado un valor no válido, intenta nuevamente\")\n",
    "except TypeError:\n",
    "    print(\"Has ingresado un valor no válido, intenta nuevamente\")"
   ]
  },
  {
   "attachments": {},
   "cell_type": "markdown",
   "id": "747a7717",
   "metadata": {},
   "source": [
    "### 8. Haga una función en Python que cree un set con todas las cartas de una baraja de Pocker utilizando el siguiente formato: Tipo-Número.\n",
    "- Utilice las letras T para tréboles, C para corazones, P para picas y E para espadas.\n",
    "- Para los números utilice la numeración del 1 al 13. Por ejemplo E13 sería Rey de Espadas, P01 sería As de Picas, T05 sería cinco de Tréboles.\n",
    "- Posteriormente cree una función que dado el conjunto anterior cree dos sets nuevos de cartas, cada conjunto debe tener una cantidad variable de elementos, puede utilizar números aleatorios enteros para definir la longitud de los conjuntos. \n",
    "- Adicionalmente, deberá calcular la probabilidad de la intersección de ambos conjuntos y demuestre si son eventos independientes con la regla del producto. \n",
    "- Para concluir, calcule probabilidad de la unión de ambos conjuntos y demuestre que se cumple la regla de la adición."
   ]
  },
  {
   "cell_type": "code",
   "execution_count": 101,
   "id": "7b28ed29",
   "metadata": {},
   "outputs": [
    {
     "name": "stdout",
     "output_type": "stream",
     "text": [
      "['T1', 'T2', 'T3', 'T4', 'T5', 'T6', 'T7', 'T8', 'T9', 'T10', 'T11', 'T12', 'T13', 'C1', 'C2', 'C3', 'C4', 'C5', 'C6', 'C7', 'C8', 'C9', 'C10', 'C11', 'C12', 'C13', 'P1', 'P2', 'P3', 'P4', 'P5', 'P6', 'P7', 'P8', 'P9', 'P10', 'P11', 'P12', 'P13', 'E1', 'E2', 'E3', 'E4', 'E5', 'E6', 'E7', 'E8', 'E9', 'E10', 'E11', 'E12', 'E13']\n"
     ]
    }
   ],
   "source": [
    "# Función para crear el set de cartas\n",
    "def createPockerSet():\n",
    "    cardSets = []\n",
    "    # cardSets.remove(1)\n",
    "    cardTypes = [\"T\", \"C\", \"P\", \"E\"]\n",
    "    for i in range(len(cardTypes)):\n",
    "        j = 1\n",
    "        while j <= 13:\n",
    "            cardSets.append(\"{}{}\".format(cardTypes[i], str(j)))\n",
    "            j+=1\n",
    "    return cardSets\n",
    "\n",
    "cardSets = createPockerSet()\n",
    "print(cardSets)"
   ]
  },
  {
   "cell_type": "code",
   "execution_count": 123,
   "id": "3f296933",
   "metadata": {},
   "outputs": [
    {
     "name": "stdout",
     "output_type": "stream",
     "text": [
      "Probabilidad de la intersección: 0.16161242603550294\n",
      "Son eventos independientes\n",
      "Intersección de conjuntos: \n",
      "{'T10', 'T1', 'E11', 'C6', 'E3', 'C11', 'E10', 'P4', 'E1'}\n",
      "Probabilidad de la unión: 0.6460798816568047\n"
     ]
    }
   ],
   "source": [
    "import random\n",
    "# Creamos largos de conjunto random\n",
    "setACont = random.randint(1, len(cardSets))\n",
    "setBCont = random.randint(1, len(cardSets))\n",
    "\n",
    "# Inicializamos sets vacíos\n",
    "setA = set()\n",
    "setB = set()\n",
    "\n",
    "# Poblamos set A de manera aleatoria\n",
    "i = 0\n",
    "while (i <= setACont):\n",
    "    j = random.randint(0, len(cardSets)-1)\n",
    "    setA.add(cardSets[j])\n",
    "    i += 1\n",
    "\n",
    "# Poblamos set B de manera aleatoria\n",
    "i = 0\n",
    "while (i <= setACont):\n",
    "    j = random.randint(0, len(cardSets)-1)\n",
    "    setB.add(cardSets[j])\n",
    "    i += 1\n",
    "\n",
    "# Probabilidad de set A\n",
    "probA = len(setA) / len(cardSets) #Card A / #Card Total\n",
    "# Probabilidad de set B\n",
    "probB = len(setB) / len(cardSets) #Card B / #Card Total\n",
    "\n",
    "# Calculando probabilidad de la intersección\n",
    "probInt = probA * probB\n",
    "print(\"Probabilidad de la intersección: {}\".format(probInt))\n",
    "\n",
    "# Definiendo si son independientes\n",
    "probAdadoB = probInt / probB\n",
    "probBdadoA = probInt / probA\n",
    "\n",
    "if (probAdadoB == probA and probBdadoA == probB):\n",
    "    print(\"Son eventos independientes\")\n",
    "else: \n",
    "    print(\"NO son eventos independientes\")\n",
    "\n",
    "print(\"Intersección de conjuntos: \")\n",
    "print(setA.intersection(setB))\n",
    "\n",
    "# Calculando la probabilidad de la unión aplicando la regla de la adición\n",
    "probUnion = probA + probB - probInt\n",
    "print(\"Probabilidad de la unión: {}\".format(probUnion))"
   ]
  }
 ],
 "metadata": {
  "kernelspec": {
   "display_name": "base",
   "language": "python",
   "name": "python3"
  },
  "language_info": {
   "codemirror_mode": {
    "name": "ipython",
    "version": 3
   },
   "file_extension": ".py",
   "mimetype": "text/x-python",
   "name": "python",
   "nbconvert_exporter": "python",
   "pygments_lexer": "ipython3",
   "version": "3.9.13"
  },
  "vscode": {
   "interpreter": {
    "hash": "4a0e8f02c7eaf12b228e34a1472aeb614f81a248b533d0451cd871fa6cd572f8"
   }
  }
 },
 "nbformat": 4,
 "nbformat_minor": 5
}
