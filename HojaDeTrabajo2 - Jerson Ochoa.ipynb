{
 "cells": [
  {
   "attachments": {},
   "cell_type": "markdown",
   "id": "268cc30f",
   "metadata": {},
   "source": [
    "### Ciencia de datos en Python\n",
    "# Hoja de trabajo #2 - Sintaxis y estructuras de datos\n",
    "#### Jerson Alexander Ochoa Barillas"
   ]
  },
  {
   "attachments": {},
   "cell_type": "markdown",
   "id": "06639f75",
   "metadata": {},
   "source": [
    "### 1. Haga un programa en Python que reciba de parámetro un número de segundos y que despliegue en pantalla las horas, minutos y segundos que representan. Por ejemplo:\n",
    "- Si el número de segundos recibidos fuera: 2743 entonces su programa debería desplegar: Horas: 0, Minutos: 45, Segundos: 43\n",
    "- Si el número de segundos recibidos fuera 5871: Horas: 1, Minutos: 37, Segundos: 51\n",
    "Recuerde manejar excepciones y errores que considere necesarios."
   ]
  },
  {
   "cell_type": "code",
   "execution_count": 6,
   "metadata": {},
   "outputs": [
    {
     "name": "stdout",
     "output_type": "stream",
     "text": [
      "Horas: 1, Minutos: 37, Segundos: 51\n"
     ]
    }
   ],
   "source": [
    "try:\n",
    "    userSeconds = int(input(\"Ingresa el número de segundos que deseas convertir: \"))\n",
    "    varSeconds = userSeconds % 60\n",
    "    auxMinutes = (userSeconds - varSeconds) / 60\n",
    "    varMinutes = auxMinutes % 60\n",
    "    varHours = (auxMinutes - varMinutes) / 60\n",
    "    print(\"Horas: {}, Minutos: {}, Segundos: {}\".format(int(varHours), int(varMinutes), int(varSeconds)))\n",
    "except ValueError:\n",
    "    print(\"Dato no válido, intenta nuevamente\")"
   ]
  },
  {
   "attachments": {},
   "cell_type": "markdown",
   "id": "64413c9e",
   "metadata": {},
   "source": [
    "### 2. Haga una función en Python que dado un número entre 1 y 20 y un caracter cualquiera despliegue cuatro patrones triangulares\n",
    "Por ejemplo si el usuario ingresara el número 4 y el símbolo * el programa deberá desplegar lo siguiente: \n",
    "\n",
    "* °     °°°°  °°°°     °\n",
    "* °°     °°°  °°°     °°\n",
    "* °°°     °°  °°     °°°\n",
    "* °°°°     °  °     °°°°"
   ]
  },
  {
   "cell_type": "code",
   "execution_count": 25,
   "id": "6c6acee4",
   "metadata": {},
   "outputs": [
    {
     "name": "stdout",
     "output_type": "stream",
     "text": [
      "*          **********          **********          *\n",
      "**          *********          *********          **\n",
      "***          ********          ********          ***\n",
      "****          *******          *******          ****\n",
      "*****          ******          ******          *****\n",
      "******          *****          *****          ******\n",
      "*******          ****          ****          *******\n",
      "********          ***          ***          ********\n",
      "*********          **          **          *********\n",
      "**********          *          *          **********\n"
     ]
    }
   ],
   "source": [
    "strOut = \"\"\n",
    "def printPiramids(number, character):\n",
    "    i = 0\n",
    "    try:\n",
    "        while (i < number):\n",
    "            strOut = character*(i+1)\n",
    "            strOut += ' '*(number)\n",
    "            strOut += character*(number-i)\n",
    "            strOut += ' '*(number)\n",
    "            strOut += character*(number-i) \n",
    "            strOut += ' '*(number)\n",
    "            strOut += character*(i+1)\n",
    "            print(strOut)\n",
    "            i+=1\n",
    "    except ValueError:\n",
    "        print(\"Datos ingresados no válidos, intente nuevamente\")\n",
    "\n",
    "fOut = printPiramids(10, \"*\")\n",
    "fOut"
   ]
  },
  {
   "attachments": {},
   "cell_type": "markdown",
   "id": "da0ba665",
   "metadata": {},
   "source": [
    "### 3. Haga un programa en Python que la fecha de nacimiento de una persona (puede ingresar por separado cada valor, es decir, pedir primero día, luego mes y luego año), despliegue la edad de la persona en años, meses y días. Su resultado puede ser aproximado"
   ]
  },
  {
   "cell_type": "code",
   "execution_count": 46,
   "id": "8a173278",
   "metadata": {},
   "outputs": [
    {
     "name": "stdout",
     "output_type": "stream",
     "text": [
      "Tu edad actual es: 26 años, 4 meses y 2 dias\n"
     ]
    }
   ],
   "source": [
    "import datetime\n",
    "\n",
    "try:\n",
    "    userDay = int(input(\"Ingresa tu día de nacimiento (en números):\"))\n",
    "    userMonth = int(input(\"Ingresa tu mes de nacimiento (en números):\"))\n",
    "    userYear = int(input(\"Ingresa tu año de nacimiento (en números):\"))\n",
    "\n",
    "    currentDate = datetime.datetime.now()\n",
    "    userDate = datetime.datetime.strptime(\"{}-{}-{}\".format(int(userYear), int(userMonth), int(userDay)), \"%Y-%m-%d\")\n",
    "    currentYear = currentDate.date().year\n",
    "    currentMonth = currentDate.date().month\n",
    "    currentDay = currentDate.date().day\n",
    "\n",
    "    if (userYear > int(currentYear)):\n",
    "        print(\"El año ingresado no puede ser mayor al actual, intente nuevamente\")\n",
    "    elif (userYear == int(currentYear) and userMonth > currentMonth):\n",
    "        print(\"El mes ingresado no puede ser mayor al actual tomando en cuenta que es el mismo año, intente nuevamente\")\n",
    "    elif (userYear == int(currentYear) and userMonth == currentMonth and userDay > currentDay):\n",
    "        print(\"Fecha ingresada no es válida, intente nuevamente\")\n",
    "    else:\n",
    "        ageDaysDiff = currentDate - userDate\n",
    "        auxDays = ageDaysDiff.days % 365\n",
    "        ageYears = ((ageDaysDiff.days - auxDays) / 365)\n",
    "        ageDays = auxDays % 30\n",
    "        ageMonths = ((auxDays - ageDays) / 30)\n",
    "        print(\"Tu edad actual es: {} años, {} meses y {} dias\".format(int(ageYears), int(ageMonths), int(ageDays)))\n",
    "\n",
    "        \n",
    "except ValueError as ex:\n",
    "    print(\"Datos incorrectos, intente nuevamente \")"
   ]
  },
  {
   "attachments": {},
   "cell_type": "markdown",
   "id": "4b02eb06",
   "metadata": {},
   "source": [
    "### 4. Escriba una función en Python que dada una tupla de elementos (números o letras) esta se convierta a un string. Tomar nota del siguiente ejemplo: \n",
    "- Si la entrada fuera: (10, 20, 40, 5, 70)\n",
    "- La salida debería ser: 1020440570"
   ]
  },
  {
   "cell_type": "code",
   "execution_count": 14,
   "id": "74bee2c5",
   "metadata": {},
   "outputs": [
    {
     "name": "stdout",
     "output_type": "stream",
     "text": [
      "102040570\n"
     ]
    }
   ],
   "source": [
    "try:\n",
    "    def concatElements(elements):\n",
    "        # print(elements)\n",
    "        varString = \"\"\n",
    "        for el in elements:\n",
    "            varString+=str(el)\n",
    "        return(varString)\n",
    "\n",
    "    resp = concatElements((10, 20, 40, 5, 70))\n",
    "    print(resp)\n",
    "    \n",
    "except ValueError:\n",
    "    print(\"Ha ocurrido un error al intentar procesar los datos, intenta nuevamente\")\n",
    "except TypeError:\n",
    "    print(\"Error: Debe ingresar una tupla a la función, intente nuevamente\")\n"
   ]
  },
  {
   "attachments": {},
   "cell_type": "markdown",
   "id": "2a7e5896",
   "metadata": {},
   "source": [
    "### 5. Cree un programa en Python que dada una lista de tuplas, elimine las tuplas que están vacías. Tomar nota del siguiente ejemplo:\n",
    "- Si la lista fuera [(), (), ('X',), ('a', 'b'), ('a','b','c'), ('d')]\n",
    "- El resultado debería ser [('X'), ('a', 'b'), ('a','b','c'), ('d')]"
   ]
  },
  {
   "cell_type": "code",
   "execution_count": 20,
   "id": "37999099",
   "metadata": {},
   "outputs": [
    {
     "name": "stdout",
     "output_type": "stream",
     "text": [
      "['X', ('a', 'b'), ('a', 'b', 'c'), 'd']\n"
     ]
    }
   ],
   "source": [
    "try: \n",
    "    def removeVoidTup(tuplas):\n",
    "        for i in range(len(tuplas)-1, -1, -1):\n",
    "            if not tuplas[i]:\n",
    "                del tuplas[i]\n",
    "        return tuplas\n",
    "\n",
    "    resp = removeVoidTup([(), (), ('X'), ('a','b'), ('a', 'b', 'c'), ('d')])\n",
    "    print(resp)\n",
    "except ValueError:\n",
    "    print(\"Debe ingresar un listado de tuplas válido\")\n",
    "except TypeError:\n",
    "    print(\"Debe ingresar un listado de tuplas válido\")"
   ]
  },
  {
   "attachments": {},
   "cell_type": "markdown",
   "id": "ae1dcc39",
   "metadata": {},
   "source": [
    "### 6. Cree una función en Python que dada una tupla de tuplas con números, produzca una tupla con el promedio de cada tupla individual. Tomar nota del siguiente ejemplo: \n",
    "- Si la tupla de entrada fuera: ((10, 10, 10, 12), (30, 45, 56, 45), (81, 80, 39, 32))\n",
    "- El resultado debería ser: (10.5, 44, 58)"
   ]
  },
  {
   "cell_type": "code",
   "execution_count": 43,
   "id": "bb87557c",
   "metadata": {},
   "outputs": [
    {
     "name": "stdout",
     "output_type": "stream",
     "text": [
      "(10.5, 44.0, 58.0)\n"
     ]
    }
   ],
   "source": [
    "try:\n",
    "    def getTupAvg(list):\n",
    "        listAvg = []\n",
    "        for i in range(len(list)):\n",
    "            if list[i]:\n",
    "                mean = sum(list[i])/len(list[i])\n",
    "                listAvg.append(mean)\n",
    "        return tuple(listAvg)\n",
    "\n",
    "    resp = getTupAvg(((10, 10, 10, 12), (30, 45, 56, 45), (81, 80, 39, 32)))\n",
    "    print(resp)\n",
    "except ValueError:\n",
    "    print(\"Debe ingresar un correcto listado de tuplas, intente nuevamente\")\n",
    "except TypeError:\n",
    "    print(\"Debe ingresar un correcto listado de tuplas, intente nuevamente\")"
   ]
  }
 ],
 "metadata": {
  "kernelspec": {
   "display_name": "base",
   "language": "python",
   "name": "python3"
  },
  "language_info": {
   "codemirror_mode": {
    "name": "ipython",
    "version": 3
   },
   "file_extension": ".py",
   "mimetype": "text/x-python",
   "name": "python",
   "nbconvert_exporter": "python",
   "pygments_lexer": "ipython3",
   "version": "3.9.13"
  },
  "vscode": {
   "interpreter": {
    "hash": "4a0e8f02c7eaf12b228e34a1472aeb614f81a248b533d0451cd871fa6cd572f8"
   }
  }
 },
 "nbformat": 4,
 "nbformat_minor": 5
}
